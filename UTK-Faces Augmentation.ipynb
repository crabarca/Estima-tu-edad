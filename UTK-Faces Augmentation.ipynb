{
 "cells": [
  {
   "cell_type": "markdown",
   "metadata": {},
   "source": [
    "Check for dimensions of images"
   ]
  },
  {
   "cell_type": "code",
   "execution_count": 4,
   "metadata": {},
   "outputs": [
    {
     "name": "stdout",
     "output_type": "stream",
     "text": [
      "Total sum:  19560\n"
     ]
    },
    {
     "data": {
      "text/plain": [
       "{1: 0, 2: 5892, 3: 1328, 4: 3552, 5: 4218, 6: 3362, 7: 1208}"
      ]
     },
     "execution_count": 4,
     "metadata": {},
     "output_type": "execute_result"
    }
   ],
   "source": [
    "from scipy import ndimage, misc\n",
    "import os\n",
    "import tensorflow as tf\n",
    "import numpy as np\n",
    "\n",
    "def check_dimensions(directory):\n",
    "    for filename in os.listdir(directory):\n",
    "        img = scipy.ndimage.imread(str(directory + '/'+ filename), mode='RGB')\n",
    "        shape = img.shape\n",
    "        if shape[0] != 200 or shape[1] != 200:\n",
    "            print(\"{} out of shape\".format(filename))\n",
    "\n",
    "            \n",
    "# check_dimensions('./utk_faces_renamed')\n",
    "\n",
    "def flip_images(directory):\n",
    "    baseFilename = \"face_{}_{}.jpg\"    \n",
    "    if not os.path.exists(\"./utk_faces_extended\"):\n",
    "        os.mkdir(\"./utk_faces_extended\")\n",
    "        \n",
    "    classCounter = images_per_class(directory)\n",
    "#     classCounter = {1: 0, 2: 0, 3: 0, 4: 0, 5: 0, 6: 0, 7: 0}\n",
    "    for filename in os.listdir(directory):\n",
    "        imgClass = int(filename.split(\"_\")[1])\n",
    "        filePath = str(directory + '/' + filename)\n",
    "        classCounter[imgClass] += 1\n",
    "        \n",
    "        img = scipy.ndimage.imread(filePath, mode='RGB')\n",
    "        imgFlip = np.fliplr(img)\n",
    "        \n",
    "        newName = baseFilename.format(str(imgClass).zfill(3), str(classCounter[imgClass]).zfill(5))\n",
    "        scipy.misc.imsave('./utk_faces_extended/{}'.format(newName), imgFlip)\n",
    "            \n",
    "def images_per_class(directory):\n",
    "    ageRangeCounter = {1: 0, 2: 0, 3: 0, 4: 0, 5: 0, 6: 0, 7: 0}\n",
    "    for filename in os.listdir(directory):\n",
    "    # To count images per group when renamed\n",
    "        group = int(filename.split(\"_\")[1])\n",
    "        ageRangeCounter[group] += 1\n",
    "    \n",
    "    totalSum = sum([v for k,v in ageRangeCounter.items()])\n",
    "    print(\"Total sum: \", totalSum)\n",
    "    \n",
    "    return ageRangeCounter\n",
    "    \n",
    "images_per_class('./utk_faces_extended/')\n",
    "# flip_images('./utk_faces_renamed/')"
   ]
  }
 ],
 "metadata": {
  "kernelspec": {
   "display_name": "Python 3",
   "language": "python",
   "name": "python3"
  },
  "language_info": {
   "codemirror_mode": {
    "name": "ipython",
    "version": 3
   },
   "file_extension": ".py",
   "mimetype": "text/x-python",
   "name": "python",
   "nbconvert_exporter": "python",
   "pygments_lexer": "ipython3",
   "version": "3.5.2"
  }
 },
 "nbformat": 4,
 "nbformat_minor": 2
}
