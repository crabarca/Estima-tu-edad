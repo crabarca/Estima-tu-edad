{
 "cells": [
  {
   "cell_type": "markdown",
   "metadata": {},
   "source": [
    "### Parser\n",
    "Open and return a .npz file with the image data and labels"
   ]
  },
  {
   "cell_type": "code",
   "execution_count": 43,
   "metadata": {},
   "outputs": [
    {
     "name": "stdout",
     "output_type": "stream",
     "text": [
      "Type of data? 1-Train 2-Test2\n",
      "Select number of classes:7\n",
      "Input range of images to be opened\n",
      "First image index:201\n",
      "Upper image index:240\n"
     ]
    }
   ],
   "source": [
    "from skimage import io\n",
    "from matplotlib import pyplot as plt\n",
    "import numpy as np\n",
    "import os\n",
    "\n",
    "def open_files(dirPath = None, baseName = None):\n",
    "    train_test = int(input(\"Type of data? 1-Train 2-Test\"))\n",
    "    if train_test == 1:\n",
    "        output_name = 'train_data'\n",
    "    elif train_test == 2:\n",
    "        output_name = 'test_data'\n",
    "        \n",
    "    nClass = int(input(\"Select number of classes:\"))\n",
    "    print(\"Input range of images to be opened\")\n",
    "    rangeLower = int(input(\"First image index:\"))\n",
    "    rangeUpper = int(input(\"Upper image index:\"))\n",
    "    \n",
    "    images = []\n",
    "    for i in range(1, nClass + 1):\n",
    "        for j in range(rangeLower, rangeUpper + 1):\n",
    "            fileName = os.path.join(dirPath, baseName.format(i , j))\n",
    "            img = skimage.io.imread(fileName)\n",
    "            images.append(img)\n",
    "    \n",
    "    labels = [i for i in range(1, nClass + 1) for j in range(rangeUpper - rangeLower )]\n",
    "    \n",
    "    np.savez(output_name, data=images, labels = labels)\n",
    "\n",
    "folderPath = '/home/cristobal/Dropbox/U/Patrones/Estima-tu-edad/fotos/'\n",
    "baseName = 'face_{0:03d}_{1:05d}.png'\n",
    "\n",
    "open_files(dirPath = folderPath, baseName = baseName)\n",
    "    "
   ]
  }
 ],
 "metadata": {
  "kernelspec": {
   "display_name": "Python 3",
   "language": "python",
   "name": "python3"
  },
  "language_info": {
   "codemirror_mode": {
    "name": "ipython",
    "version": 3
   },
   "file_extension": ".py",
   "mimetype": "text/x-python",
   "name": "python",
   "nbconvert_exporter": "python",
   "pygments_lexer": "ipython3",
   "version": "3.5.2"
  }
 },
 "nbformat": 4,
 "nbformat_minor": 2
}
